{
 "cells": [
  {
   "cell_type": "code",
   "execution_count": 29,
   "metadata": {},
   "outputs": [],
   "source": [
    "import pandas as pd\n",
    "from sqlalchemy import create_engine\n",
    "from datetime import datetime"
   ]
  },
  {
   "cell_type": "code",
   "execution_count": 25,
   "metadata": {},
   "outputs": [],
   "source": [
    "data = pd.read_csv(\"Data/data.csv\")\n",
    "genre_data = pd.read_csv(\"Data/data_w_genres.csv\")\n",
    "year_data = pd.read_csv(\"Data/data_by_year.csv\")\n",
    "artist_data = pd.read_csv(\"Data/data_by_artist.csv\")"
   ]
  },
  {
   "cell_type": "code",
   "execution_count": 26,
   "metadata": {},
   "outputs": [],
   "source": [
    "#Merging genre_data and artist_data as on artist (why: both CSVs have the same row length so it make sense to just combine them)\n",
    "genre_data_new = genre_data[['artists','genres']]\n",
    "merged_df = pd.merge(artist_data, genre_data, on=\"artists\")\n",
    "merged_df_2 = merged_df[[\"artists\",\n",
    "                         \"acousticness_x\", \n",
    "                         \"danceability_x\",\n",
    "                         \"duration_ms_x\",\n",
    "                         \"energy_x\", \n",
    "                         \"instrumentalness_x\",\n",
    "                        \"liveness_x\", \n",
    "                         \"loudness_x\", \n",
    "                         \"speechiness_x\",\n",
    "                         \"tempo_x\",\n",
    "                         \"popularity_x\", \n",
    "                         \"genres\"]]"
   ]
  },
  {
   "cell_type": "code",
   "execution_count": null,
   "metadata": {},
   "outputs": [],
   "source": []
  },
  {
   "cell_type": "code",
   "execution_count": null,
   "metadata": {},
   "outputs": [],
   "source": []
  }
 ],
 "metadata": {
  "kernelspec": {
   "display_name": "Python 3",
   "language": "python",
   "name": "python3"
  },
  "language_info": {
   "codemirror_mode": {
    "name": "ipython",
    "version": 3
   },
   "file_extension": ".py",
   "mimetype": "text/x-python",
   "name": "python",
   "nbconvert_exporter": "python",
   "pygments_lexer": "ipython3",
   "version": "3.8.3"
  }
 },
 "nbformat": 4,
 "nbformat_minor": 4
}
