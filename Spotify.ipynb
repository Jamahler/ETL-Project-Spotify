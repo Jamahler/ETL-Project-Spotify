{
 "cells": [
  {
   "cell_type": "code",
   "execution_count": 16,
   "metadata": {},
   "outputs": [],
   "source": [
    "import pandas as pd"
   ]
  },
  {
   "cell_type": "code",
   "execution_count": 17,
   "metadata": {},
   "outputs": [],
   "source": [
    "data = pd.read_csv(\"Data/data.csv\")\n",
    "genre_data = pd.read_csv(\"Data/data_w_genres.csv\")\n",
    "year_data = pd.read_csv(\"Data/data_by_year.csv\")"
   ]
  },
  {
   "cell_type": "code",
   "execution_count": 32,
   "metadata": {},
   "outputs": [],
   "source": [
    "organized_data = data[[\"id\",\n",
    "                       \"name\",\n",
    "                       \"artists\",\n",
    "                       \"year\",\n",
    "                       \"duration_ms\",\n",
    "                       \"explicit\",\n",
    "                       \"acousticness\",\n",
    "                       \"danceability\",\n",
    "                       \"energy\",\n",
    "                       \"instrumentalness\",\n",
    "                       \"liveness\",\n",
    "                       \"loudness\",\n",
    "                       \"popularity\",\n",
    "                       \"speechiness\",\n",
    "                       \"tempo\"                     \n",
    "                      ]]"
   ]
  },
  {
   "cell_type": "code",
   "execution_count": 34,
   "metadata": {},
   "outputs": [],
   "source": [
    "organized_data.to_csv(\"Data/CleanData.csv\", index=False, header=True)"
   ]
  },
  {
   "cell_type": "code",
   "execution_count": 29,
   "metadata": {},
   "outputs": [
    {
     "name": "stdout",
     "output_type": "stream",
     "text": [
      "<class 'pandas.core.frame.DataFrame'>\n",
      "RangeIndex: 27621 entries, 0 to 27620\n",
      "Data columns (total 16 columns):\n",
      " #   Column            Non-Null Count  Dtype  \n",
      "---  ------            --------------  -----  \n",
      " 0   artists           27621 non-null  object \n",
      " 1   acousticness      27621 non-null  float64\n",
      " 2   danceability      27621 non-null  float64\n",
      " 3   duration_ms       27621 non-null  float64\n",
      " 4   energy            27621 non-null  float64\n",
      " 5   instrumentalness  27621 non-null  float64\n",
      " 6   liveness          27621 non-null  float64\n",
      " 7   loudness          27621 non-null  float64\n",
      " 8   speechiness       27621 non-null  float64\n",
      " 9   tempo             27621 non-null  float64\n",
      " 10  valence           27621 non-null  float64\n",
      " 11  popularity        27621 non-null  float64\n",
      " 12  key               27621 non-null  int64  \n",
      " 13  mode              27621 non-null  int64  \n",
      " 14  count             27621 non-null  int64  \n",
      " 15  genres            27621 non-null  object \n",
      "dtypes: float64(11), int64(3), object(2)\n",
      "memory usage: 3.4+ MB\n"
     ]
    }
   ],
   "source": [
    "genre_data.info()"
   ]
  },
  {
   "cell_type": "code",
   "execution_count": null,
   "metadata": {},
   "outputs": [],
   "source": []
  }
 ],
 "metadata": {
  "kernelspec": {
   "display_name": "Python 3",
   "language": "python",
   "name": "python3"
  },
  "language_info": {
   "codemirror_mode": {
    "name": "ipython",
    "version": 3
   },
   "file_extension": ".py",
   "mimetype": "text/x-python",
   "name": "python",
   "nbconvert_exporter": "python",
   "pygments_lexer": "ipython3",
   "version": "3.7.6"
  }
 },
 "nbformat": 4,
 "nbformat_minor": 4
}
