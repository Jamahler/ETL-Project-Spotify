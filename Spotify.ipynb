{
 "cells": [
  {
   "cell_type": "code",
   "execution_count": 2,
   "metadata": {},
   "outputs": [],
   "source": [
    "import pandas as pd\n",
    "from sqlalchemy import create_engine"
   ]
  },
  {
   "cell_type": "code",
   "execution_count": 3,
   "metadata": {},
   "outputs": [],
   "source": [
    "data = pd.read_csv(\"Data/data.csv\")\n",
    "genre_data = pd.read_csv(\"Data/data_w_genres.csv\")\n",
    "year_data = pd.read_csv(\"Data/data_by_year.csv\")"
   ]
  },
  {
   "cell_type": "code",
   "execution_count": 4,
   "metadata": {},
   "outputs": [],
   "source": [
    "organized_data = data[[\"id\",\n",
    "                       \"name\",\n",
    "                       \"artists\",\n",
    "                       \"year\",\n",
    "                       \"duration_ms\",\n",
    "                       \"explicit\",\n",
    "                       \"acousticness\",\n",
    "                       \"danceability\",\n",
    "                       \"energy\",\n",
    "                       \"instrumentalness\",\n",
    "                       \"liveness\",\n",
    "                       \"loudness\",\n",
    "                       \"popularity\",\n",
    "                       \"speechiness\",\n",
    "                       \"tempo\"                     \n",
    "                      ]]"
   ]
  },
  {
   "cell_type": "code",
   "execution_count": 5,
   "metadata": {},
   "outputs": [
    {
     "ename": "PermissionError",
     "evalue": "[Errno 13] Permission denied: 'Data/CleanData.csv'",
     "output_type": "error",
     "traceback": [
      "\u001b[1;31m---------------------------------------------------------------------------\u001b[0m",
      "\u001b[1;31mPermissionError\u001b[0m                           Traceback (most recent call last)",
      "\u001b[1;32m<ipython-input-5-ee2623934bac>\u001b[0m in \u001b[0;36m<module>\u001b[1;34m\u001b[0m\n\u001b[1;32m----> 1\u001b[1;33m \u001b[0morganized_data\u001b[0m\u001b[1;33m.\u001b[0m\u001b[0mto_csv\u001b[0m\u001b[1;33m(\u001b[0m\u001b[1;34m\"Data/CleanData.csv\"\u001b[0m\u001b[1;33m,\u001b[0m \u001b[0mindex\u001b[0m\u001b[1;33m=\u001b[0m\u001b[1;32mFalse\u001b[0m\u001b[1;33m,\u001b[0m \u001b[0mheader\u001b[0m\u001b[1;33m=\u001b[0m\u001b[1;32mTrue\u001b[0m\u001b[1;33m)\u001b[0m\u001b[1;33m\u001b[0m\u001b[1;33m\u001b[0m\u001b[0m\n\u001b[0m",
      "\u001b[1;32m~\\anaconda3\\lib\\site-packages\\pandas\\core\\generic.py\u001b[0m in \u001b[0;36mto_csv\u001b[1;34m(self, path_or_buf, sep, na_rep, float_format, columns, header, index, index_label, mode, encoding, compression, quoting, quotechar, line_terminator, chunksize, date_format, doublequote, escapechar, decimal)\u001b[0m\n\u001b[0;32m   3202\u001b[0m             \u001b[0mdecimal\u001b[0m\u001b[1;33m=\u001b[0m\u001b[0mdecimal\u001b[0m\u001b[1;33m,\u001b[0m\u001b[1;33m\u001b[0m\u001b[1;33m\u001b[0m\u001b[0m\n\u001b[0;32m   3203\u001b[0m         )\n\u001b[1;32m-> 3204\u001b[1;33m         \u001b[0mformatter\u001b[0m\u001b[1;33m.\u001b[0m\u001b[0msave\u001b[0m\u001b[1;33m(\u001b[0m\u001b[1;33m)\u001b[0m\u001b[1;33m\u001b[0m\u001b[1;33m\u001b[0m\u001b[0m\n\u001b[0m\u001b[0;32m   3205\u001b[0m \u001b[1;33m\u001b[0m\u001b[0m\n\u001b[0;32m   3206\u001b[0m         \u001b[1;32mif\u001b[0m \u001b[0mpath_or_buf\u001b[0m \u001b[1;32mis\u001b[0m \u001b[1;32mNone\u001b[0m\u001b[1;33m:\u001b[0m\u001b[1;33m\u001b[0m\u001b[1;33m\u001b[0m\u001b[0m\n",
      "\u001b[1;32m~\\anaconda3\\lib\\site-packages\\pandas\\io\\formats\\csvs.py\u001b[0m in \u001b[0;36msave\u001b[1;34m(self)\u001b[0m\n\u001b[0;32m    186\u001b[0m                 \u001b[0mself\u001b[0m\u001b[1;33m.\u001b[0m\u001b[0mmode\u001b[0m\u001b[1;33m,\u001b[0m\u001b[1;33m\u001b[0m\u001b[1;33m\u001b[0m\u001b[0m\n\u001b[0;32m    187\u001b[0m                 \u001b[0mencoding\u001b[0m\u001b[1;33m=\u001b[0m\u001b[0mself\u001b[0m\u001b[1;33m.\u001b[0m\u001b[0mencoding\u001b[0m\u001b[1;33m,\u001b[0m\u001b[1;33m\u001b[0m\u001b[1;33m\u001b[0m\u001b[0m\n\u001b[1;32m--> 188\u001b[1;33m                 \u001b[0mcompression\u001b[0m\u001b[1;33m=\u001b[0m\u001b[0mdict\u001b[0m\u001b[1;33m(\u001b[0m\u001b[0mself\u001b[0m\u001b[1;33m.\u001b[0m\u001b[0mcompression_args\u001b[0m\u001b[1;33m,\u001b[0m \u001b[0mmethod\u001b[0m\u001b[1;33m=\u001b[0m\u001b[0mself\u001b[0m\u001b[1;33m.\u001b[0m\u001b[0mcompression\u001b[0m\u001b[1;33m)\u001b[0m\u001b[1;33m,\u001b[0m\u001b[1;33m\u001b[0m\u001b[1;33m\u001b[0m\u001b[0m\n\u001b[0m\u001b[0;32m    189\u001b[0m             )\n\u001b[0;32m    190\u001b[0m             \u001b[0mclose\u001b[0m \u001b[1;33m=\u001b[0m \u001b[1;32mTrue\u001b[0m\u001b[1;33m\u001b[0m\u001b[1;33m\u001b[0m\u001b[0m\n",
      "\u001b[1;32m~\\anaconda3\\lib\\site-packages\\pandas\\io\\common.py\u001b[0m in \u001b[0;36mget_handle\u001b[1;34m(path_or_buf, mode, encoding, compression, memory_map, is_text)\u001b[0m\n\u001b[0;32m    426\u001b[0m         \u001b[1;32mif\u001b[0m \u001b[0mencoding\u001b[0m\u001b[1;33m:\u001b[0m\u001b[1;33m\u001b[0m\u001b[1;33m\u001b[0m\u001b[0m\n\u001b[0;32m    427\u001b[0m             \u001b[1;31m# Encoding\u001b[0m\u001b[1;33m\u001b[0m\u001b[1;33m\u001b[0m\u001b[1;33m\u001b[0m\u001b[0m\n\u001b[1;32m--> 428\u001b[1;33m             \u001b[0mf\u001b[0m \u001b[1;33m=\u001b[0m \u001b[0mopen\u001b[0m\u001b[1;33m(\u001b[0m\u001b[0mpath_or_buf\u001b[0m\u001b[1;33m,\u001b[0m \u001b[0mmode\u001b[0m\u001b[1;33m,\u001b[0m \u001b[0mencoding\u001b[0m\u001b[1;33m=\u001b[0m\u001b[0mencoding\u001b[0m\u001b[1;33m,\u001b[0m \u001b[0mnewline\u001b[0m\u001b[1;33m=\u001b[0m\u001b[1;34m\"\"\u001b[0m\u001b[1;33m)\u001b[0m\u001b[1;33m\u001b[0m\u001b[1;33m\u001b[0m\u001b[0m\n\u001b[0m\u001b[0;32m    429\u001b[0m         \u001b[1;32melif\u001b[0m \u001b[0mis_text\u001b[0m\u001b[1;33m:\u001b[0m\u001b[1;33m\u001b[0m\u001b[1;33m\u001b[0m\u001b[0m\n\u001b[0;32m    430\u001b[0m             \u001b[1;31m# No explicit encoding\u001b[0m\u001b[1;33m\u001b[0m\u001b[1;33m\u001b[0m\u001b[1;33m\u001b[0m\u001b[0m\n",
      "\u001b[1;31mPermissionError\u001b[0m: [Errno 13] Permission denied: 'Data/CleanData.csv'"
     ]
    }
   ],
   "source": [
    "organized_data.to_csv(\"Data/CleanData.csv\", index=False, header=True)"
   ]
  },
  {
   "cell_type": "code",
   "execution_count": 7,
   "metadata": {},
   "outputs": [
    {
     "name": "stdout",
     "output_type": "stream",
     "text": [
      "2020-08-29 13:57:46,906 INFO sqlalchemy.engine.base.Engine SELECT CAST('test plain returns' AS VARCHAR(60)) AS anon_1\n",
      "2020-08-29 13:57:46,910 INFO sqlalchemy.engine.base.Engine ()\n",
      "2020-08-29 13:57:46,912 INFO sqlalchemy.engine.base.Engine SELECT CAST('test unicode returns' AS VARCHAR(60)) AS anon_1\n",
      "2020-08-29 13:57:46,914 INFO sqlalchemy.engine.base.Engine ()\n"
     ]
    }
   ],
   "source": [
    "engine = create_engine('sqlite:///Spotify.db', echo=True)\n",
    "sqlite_connection = engine.connect()"
   ]
  },
  {
   "cell_type": "code",
   "execution_count": 9,
   "metadata": {},
   "outputs": [
    {
     "name": "stdout",
     "output_type": "stream",
     "text": [
      "2020-08-29 14:00:57,202 INFO sqlalchemy.engine.base.Engine PRAGMA main.table_info(\"Spotify_Data\")\n",
      "2020-08-29 14:00:57,204 INFO sqlalchemy.engine.base.Engine ()\n",
      "2020-08-29 14:00:57,206 INFO sqlalchemy.engine.base.Engine PRAGMA temp.table_info(\"Spotify_Data\")\n",
      "2020-08-29 14:00:57,208 INFO sqlalchemy.engine.base.Engine ()\n",
      "2020-08-29 14:00:57,212 INFO sqlalchemy.engine.base.Engine \n",
      "CREATE TABLE \"Spotify_Data\" (\n",
      "\t\"index\" BIGINT, \n",
      "\tid TEXT, \n",
      "\tname TEXT, \n",
      "\tartists TEXT, \n",
      "\tyear BIGINT, \n",
      "\tduration_ms BIGINT, \n",
      "\texplicit BIGINT, \n",
      "\tacousticness FLOAT, \n",
      "\tdanceability FLOAT, \n",
      "\tenergy FLOAT, \n",
      "\tinstrumentalness FLOAT, \n",
      "\tliveness FLOAT, \n",
      "\tloudness FLOAT, \n",
      "\tpopularity BIGINT, \n",
      "\tspeechiness FLOAT, \n",
      "\ttempo FLOAT\n",
      ")\n",
      "\n",
      "\n",
      "2020-08-29 14:00:57,213 INFO sqlalchemy.engine.base.Engine ()\n",
      "2020-08-29 14:00:57,223 INFO sqlalchemy.engine.base.Engine COMMIT\n",
      "2020-08-29 14:00:57,226 INFO sqlalchemy.engine.base.Engine CREATE INDEX \"ix_Spotify_Data_index\" ON \"Spotify_Data\" (\"index\")\n",
      "2020-08-29 14:00:57,229 INFO sqlalchemy.engine.base.Engine ()\n",
      "2020-08-29 14:00:57,235 INFO sqlalchemy.engine.base.Engine COMMIT\n",
      "2020-08-29 14:00:57,388 INFO sqlalchemy.engine.base.Engine BEGIN (implicit)\n",
      "2020-08-29 14:01:00,268 INFO sqlalchemy.engine.base.Engine INSERT INTO \"Spotify_Data\" (\"index\", id, name, artists, year, duration_ms, explicit, acousticness, danceability, energy, instrumentalness, liveness, loudness, popularity, speechiness, tempo) VALUES (?, ?, ?, ?, ?, ?, ?, ?, ?, ?, ?, ?, ?, ?, ?, ?)\n",
      "2020-08-29 14:01:00,269 INFO sqlalchemy.engine.base.Engine ((0, '6KbQ3uYMLKb5jDxLF7wYDD', 'Singende Bataillone 1. Teil', \"['Carl Woitschach']\", 1928, 158648, 0, 0.995, 0.708, 0.195, 0.563, 0.151, -12.427999999999999, 0, 0.0506, 118.469), (1, '6KuQTIu1KoTTkLXKrwlLPV', 'Fantasiestücke, Op. 111: Più tosto lento', \"['Robert Schumann', 'Vladimir Horowitz']\", 1928, 282133, 0, 0.9940000000000001, 0.379, 0.0135, 0.9009999999999999, 0.0763, -28.454, 0, 0.0462, 83.97200000000002), (2, '6L63VW0PibdM1HDSBoqnoM', 'Chapter 1.18 - Zamek kaniowski', \"['Seweryn Goszczyński']\", 1928, 104300, 0, 0.604, 0.7490000000000001, 0.22, 0.0, 0.11900000000000001, -19.924, 0, 0.929, 107.177), (3, '6M94FkXd15sOAOQYRnWPN8', 'Bebamos Juntos - Instrumental (Remasterizado)', \"['Francisco Canaro']\", 1928, 180760, 0, 0.995, 0.7809999999999999, 0.13, 0.887, 0.111, -14.734000000000002, 0, 0.0926, 108.00299999999999), (4, '6N6tiFZ9vLTSOIxkj8qKrd', 'Polonaise-Fantaisie in A-Flat Major, Op. 61', \"['Frédéric Chopin', 'Vladimir Horowitz']\", 1928, 687733, 0, 0.99, 0.21, 0.204, 0.9079999999999999, 0.098, -16.829, 1, 0.0424, 62.148999999999994), (5, '6NxAf7M8DNHOBTmEd3JSO5', 'Scherzo a capriccio: Presto', \"['Felix Mendelssohn', 'Vladimir Horowitz']\", 1928, 352600, 0, 0.995, 0.424, 0.12, 0.9109999999999999, 0.0915, -19.242, 0, 0.0593, 63.521), (6, '6O0puPuyrxPjDTHDUgsWI7', 'Valse oubliée No. 1 in F-Sharp Major, S. 215/1', \"['Franz Liszt', 'Vladimir Horowitz']\", 1928, 136627, 0, 0.956, 0.444, 0.19699999999999998, 0.435, 0.0744, -17.226, 0, 0.04, 80.495), (7, '6OJjveoYwJdIt76y0Pxpxw', 'Per aspera ad astra', \"['Carl Woitschach']\", 1928, 153967, 0, 0.988, 0.555, 0.42100000000000004, 0.836, 0.105, -9.878, 0, 0.0474, 123.31)  ... displaying 10 of 169909 total bound parameter sets ...  (169907, '3wYOGJYD31sLRmBgCvWxa4', 'I Found You', \"['Cash Cash', 'Andy Grammer']\", 2020, 167308, 0, 0.0714, 0.6459999999999999, 0.7609999999999999, 0.0, 0.222, -2.557, 70, 0.0385, 129.916), (169908, '60RFlt48hm0l4Fu0JoccOl', 'More Hearts Than Mine', \"['Ingrid Andress']\", 2020, 214787, 0, 0.109, 0.512, 0.428, 0.0, 0.105, -7.3870000000000005, 65, 0.0271, 80.58800000000002))\n",
      "2020-08-29 14:01:01,751 INFO sqlalchemy.engine.base.Engine COMMIT\n",
      "2020-08-29 14:01:01,850 INFO sqlalchemy.engine.base.Engine SELECT name FROM sqlite_master WHERE type='table' ORDER BY name\n",
      "2020-08-29 14:01:01,852 INFO sqlalchemy.engine.base.Engine ()\n"
     ]
    }
   ],
   "source": [
    "spotify_table = \"Spotify_Data\"\n",
    "organized_data.to_sql(spotify_table, sqlite_connection, if_exists='fail')"
   ]
  },
  {
   "cell_type": "code",
   "execution_count": null,
   "metadata": {},
   "outputs": [],
   "source": []
  }
 ],
 "metadata": {
  "kernelspec": {
   "display_name": "Python 3",
   "language": "python",
   "name": "python3"
  },
  "language_info": {
   "codemirror_mode": {
    "name": "ipython",
    "version": 3
   },
   "file_extension": ".py",
   "mimetype": "text/x-python",
   "name": "python",
   "nbconvert_exporter": "python",
   "pygments_lexer": "ipython3",
   "version": "3.7.6"
  }
 },
 "nbformat": 4,
 "nbformat_minor": 4
}
